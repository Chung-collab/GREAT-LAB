{
  "nbformat": 4,
  "nbformat_minor": 0,
  "metadata": {
    "colab": {
      "name": "NPV_IRR.ipynb",
      "provenance": [],
      "authorship_tag": "ABX9TyOVpD0m1CJS61OkKZNdImtI",
      "include_colab_link": true
    },
    "kernelspec": {
      "name": "python3",
      "display_name": "Python 3"
    },
    "language_info": {
      "name": "python"
    }
  },
  "cells": [
    {
      "cell_type": "markdown",
      "metadata": {
        "id": "view-in-github",
        "colab_type": "text"
      },
      "source": [
        "<a href=\"https://colab.research.google.com/github/Chung-collab/GREAT-LAB/blob/main/NPV_IRR.ipynb\" target=\"_parent\"><img src=\"https://colab.research.google.com/assets/colab-badge.svg\" alt=\"Open In Colab\"/></a>"
      ]
    },
    {
      "cell_type": "markdown",
      "metadata": {
        "id": "_666vQeTqv2J"
      },
      "source": [
        "This is a trial to build a Home Buying Investment Decision eAnalyser by using NPV Net Present Value and IRR Internal Rate of Return. It basically uses numpy's npv and irr functions details as follows: https://numpy.org/numpy-financial/\n",
        "npv(rate, values)\tReturns the NPV (Net Present Value) of a cash flow series.\n",
        "irr(values)\tReturn the Internal Rate of Return (IRR)."
      ]
    },
    {
      "cell_type": "code",
      "metadata": {
        "colab": {
          "base_uri": "https://localhost:8080/"
        },
        "id": "W_T0NHLBspAC",
        "outputId": "ef8d0ff4-fe16-435c-8daa-4321c1134dd8"
      },
      "source": [
        "!pip install numpy-financial\n",
        "import numpy as np\n",
        "import numpy_financial as npf\n",
        "from numpy_financial import npv, irr"
      ],
      "execution_count": 6,
      "outputs": [
        {
          "output_type": "stream",
          "text": [
            "Requirement already satisfied: numpy-financial in /usr/local/lib/python3.7/dist-packages (1.0.0)\n",
            "Requirement already satisfied: numpy>=1.15 in /usr/local/lib/python3.7/dist-packages (from numpy-financial) (1.19.5)\n"
          ],
          "name": "stdout"
        }
      ]
    },
    {
      "cell_type": "code",
      "metadata": {
        "id": "h6jwJVwOtCbK"
      },
      "source": [
        "#see https://colab.research.google.com/notebooks/forms.ipynb#scrollTo=eFN7-fUKs-Bu\n",
        "#@title Cash Flows - INPUT DATA\n",
        "disc_rate = 5 #@param {type:\"slider\", min:0.00, max:10.00, step:0.05}\n",
        "loan_rate = 4.0 #@param {type:\"slider\", min:0.00, max:10.00, step:0.05} \n",
        "home_price = 1000000 #@param {type:\"integer\"}\n",
        "exp_wk_rent_y1 = 500 #@param {type:\"integer\"}\n",
        "exp_wk_rent_y2 = 500 #@param {type:\"integer\"}\n",
        "exp_wk_rent_y3 = 550 #@param {type:\"integer\"}\n",
        "exp_wk_rent_y4 = 550 #@param {type:\"integer\"}\n",
        "exp_wk_rent_y5 = 580 #@param {type:\"integer\"}\n",
        "exp_wk_rent_y6 = 580 #@param {type:\"integer\"}\n",
        "exp_wk_rent_y7 = 600 #@param {type:\"integer\"}\n",
        "exp_wk_rent_y8 = 600 #@param {type:\"integer\"}\n",
        "exp_wk_rent_y9 = 650 #@param {type:\"integer\"}\n",
        "exp_wk_rent_y10 = 650 #@param {type:\"integer\"}\n",
        "expense_rate = 15.0 #@param {type:\"slider\", min:0.0, max:30.0, step:0.5}\n",
        "exp_sale_price_y10 = 1200000 #@param {type:\"integer\"}"
      ],
      "execution_count": 52,
      "outputs": []
    },
    {
      "cell_type": "markdown",
      "metadata": {
        "id": "1sfR-PWNPKYD"
      },
      "source": [
        "Case 1: assume simple interest annual repayment for 100% home price loan"
      ]
    },
    {
      "cell_type": "code",
      "metadata": {
        "colab": {
          "base_uri": "https://localhost:8080/"
        },
        "id": "cxqt2SPavWRb",
        "outputId": "f6ae4176-3a74-455d-b556-5d837b139af2"
      },
      "source": [
        "#Loan Interest Calculator - yearly loan interest repayment amount as cash outflows\n",
        "yr_loan_expense = home_price*(loan_rate/100)\n",
        "#Net Yearly Rental Income Calculator - yearly net rental income amount as cash inflows\n",
        "nyrent1_c1 = exp_wk_rent_y1*52*(1-expense_rate/100)-yr_loan_expense\n",
        "nyrent2_c1 = exp_wk_rent_y2*52*(1-expense_rate/100)-yr_loan_expense\n",
        "nyrent3_c1 = exp_wk_rent_y3*52*(1-expense_rate/100)-yr_loan_expense\n",
        "nyrent4_c1 = exp_wk_rent_y4*52*(1-expense_rate/100)-yr_loan_expense\n",
        "nyrent5_c1 = exp_wk_rent_y5*52*(1-expense_rate/100)-yr_loan_expense\n",
        "nyrent6_c1 = exp_wk_rent_y6*52*(1-expense_rate/100)-yr_loan_expense\n",
        "nyrent7_c1 = exp_wk_rent_y7*52*(1-expense_rate/100)-yr_loan_expense\n",
        "nyrent8_c1 = exp_wk_rent_y8*52*(1-expense_rate/100)-yr_loan_expense\n",
        "nyrent9_c1 = exp_wk_rent_y8*52*(1-expense_rate/100)-yr_loan_expense\n",
        "nyrent10_c1 = exp_wk_rent_y10*52*(1-expense_rate/100)-yr_loan_expense\n",
        "print (\"Yearly Loan Interest Expense, NZD\", np.round(yr_loan_expense,2))\n",
        "print (\"Net Rental Income in Year 1, NZD\", np.round(nyrent1_c1,2))\n",
        "print (\"Net Rental Income in Year 2, NZD\", np.round(nyrent2_c1,2))\n",
        "print (\"Net Rental Income in Year 3, NZD\", np.round(nyrent3_c1,2))\n",
        "print (\"Net Rental Income in Year 4, NZD\", np.round(nyrent4_c1,2))\n",
        "print (\"Net Rental Income in Year 5, NZD\", np.round(nyrent5_c1,2))\n",
        "print (\"Net Rental Income in Year 6, NZD\", np.round(nyrent6_c1,2))\n",
        "print (\"Net Rental Income in Year 7, NZD\", np.round(nyrent7_c1,2))\n",
        "print (\"Net Rental Income in Year 8, NZD\", np.round(nyrent8_c1,2))\n",
        "print (\"Net Rental Income in Year 9, NZD\", np.round(nyrent9_c1,2))\n",
        "print (\"Net Rental Income in Year 10, NZD\", np.round(nyrent10_c1,2))"
      ],
      "execution_count": 53,
      "outputs": [
        {
          "output_type": "stream",
          "text": [
            "Yearly Loan Interest Expense, NZD 40000.0\n",
            "Net Rental Income in Year 1, NZD -17900.0\n",
            "Net Rental Income in Year 2, NZD -17900.0\n",
            "Net Rental Income in Year 3, NZD -15690.0\n",
            "Net Rental Income in Year 4, NZD -15690.0\n",
            "Net Rental Income in Year 5, NZD -14364.0\n",
            "Net Rental Income in Year 6, NZD -14364.0\n",
            "Net Rental Income in Year 7, NZD -13480.0\n",
            "Net Rental Income in Year 8, NZD -13480.0\n",
            "Net Rental Income in Year 9, NZD -13480.0\n",
            "Net Rental Income in Year 10, NZD -11270.0\n"
          ],
          "name": "stdout"
        }
      ]
    },
    {
      "cell_type": "code",
      "metadata": {
        "colab": {
          "base_uri": "https://localhost:8080/"
        },
        "id": "Q8YPlky3qqeJ",
        "outputId": "689dbef9-4639-447c-ba28-d252e7ee852c"
      },
      "source": [
        "#DCF of Rental Incomes\n",
        "cf_c1 = np.array([nyrent1_c1, nyrent2_c1, nyrent3_c1, nyrent4_c1, nyrent5_c1, nyrent6_c1, nyrent7_c1, nyrent8_c1, nyrent9_c1, nyrent10_c1, exp_sale_price_y10-home_price])\n",
        "NPV_c1= npf.npv(disc_rate/100, cf_c1)\n",
        "IRR_c1= npf.irr(cf_c1)\n",
        "print (\"Net Present Value in NZD\", np.round(NPV_c1, 2))\n",
        "print (\"Internal Rate of Return in %\", np.round(IRR_c1*100, 2))"
      ],
      "execution_count": 54,
      "outputs": [
        {
          "output_type": "stream",
          "text": [
            "Net Present Value in NZD 950.75\n",
            "Internal Rate of Return in % 5.13\n"
          ],
          "name": "stdout"
        }
      ]
    },
    {
      "cell_type": "markdown",
      "metadata": {
        "id": "bUNtzK7jO00I"
      },
      "source": [
        "Case 2: How about if you do not need to borrow, and can pay 100% home price with your saving, and just would like to assess the rate of return? "
      ]
    },
    {
      "cell_type": "code",
      "metadata": {
        "colab": {
          "base_uri": "https://localhost:8080/"
        },
        "id": "UVCZvTQ8O0I3",
        "outputId": "87435238-f169-47a2-a3ee-ae85c17002f1"
      },
      "source": [
        "nyrent1_c2 = exp_wk_rent_y1*52*(1-expense_rate/100)\n",
        "nyrent2_c2 = exp_wk_rent_y2*52*(1-expense_rate/100)\n",
        "nyrent3_c2 = exp_wk_rent_y3*52*(1-expense_rate/100)\n",
        "nyrent4_c2 = exp_wk_rent_y4*52*(1-expense_rate/100)\n",
        "nyrent5_c2 = exp_wk_rent_y5*52*(1-expense_rate/100)\n",
        "nyrent6_c2 = exp_wk_rent_y6*52*(1-expense_rate/100)\n",
        "nyrent7_c2 = exp_wk_rent_y7*52*(1-expense_rate/100)\n",
        "nyrent8_c2 = exp_wk_rent_y8*52*(1-expense_rate/100)\n",
        "nyrent9_c2 = exp_wk_rent_y8*52*(1-expense_rate/100)\n",
        "nyrent10_c2 = exp_wk_rent_y10*52*(1-expense_rate/100)\n",
        "\n",
        "print (\"Net Rental Income in Year 1, NZD\", np.round(nyrent1_c2,2))\n",
        "print (\"Net Rental Income in Year 2, NZD\", np.round(nyrent2_c2,2))\n",
        "print (\"Net Rental Income in Year 3, NZD\", np.round(nyrent3_c2,2))\n",
        "print (\"Net Rental Income in Year 4, NZD\", np.round(nyrent4_c2,2))\n",
        "print (\"Net Rental Income in Year 5, NZD\", np.round(nyrent5_c2,2))\n",
        "print (\"Net Rental Income in Year 6, NZD\", np.round(nyrent6_c2,2))\n",
        "print (\"Net Rental Income in Year 7, NZD\", np.round(nyrent7_c2,2))\n",
        "print (\"Net Rental Income in Year 8, NZD\", np.round(nyrent8_c2,2))\n",
        "print (\"Net Rental Income in Year 9, NZD\", np.round(nyrent9_c2,2))\n",
        "print (\"Net Rental Income in Year 10, NZD\", np.round(nyrent10_c2,2))\n",
        "#DCF of Rental Incomes\n",
        "cf_c2 = np.array([-home_price, nyrent1_c2, nyrent2_c2, nyrent3_c2, nyrent4_c2, nyrent5_c2, nyrent6_c2, nyrent7_c2, nyrent8_c2, nyrent9_c2, nyrent10_c2, exp_sale_price_y10])\n",
        "NPV_c2= npf.npv(disc_rate/100, cf_c2)\n",
        "IRR_c2= npf.irr(cf_c2)\n",
        "print (\"Net Present Value in NZD\", np.round(NPV_c2, 2))\n",
        "print (\"Internal Rate of Return in %\", np.round(IRR_c2*100, 2))"
      ],
      "execution_count": 55,
      "outputs": [
        {
          "output_type": "stream",
          "text": [
            "Net Rental Income in Year 1, NZD 22100.0\n",
            "Net Rental Income in Year 2, NZD 22100.0\n",
            "Net Rental Income in Year 3, NZD 24310.0\n",
            "Net Rental Income in Year 4, NZD 24310.0\n",
            "Net Rental Income in Year 5, NZD 25636.0\n",
            "Net Rental Income in Year 6, NZD 25636.0\n",
            "Net Rental Income in Year 7, NZD 26520.0\n",
            "Net Rental Income in Year 8, NZD 26520.0\n",
            "Net Rental Income in Year 9, NZD 26520.0\n",
            "Net Rental Income in Year 10, NZD 28730.0\n",
            "Net Present Value in NZD -105545.83\n",
            "Internal Rate of Return in % 3.81\n"
          ],
          "name": "stdout"
        }
      ]
    },
    {
      "cell_type": "markdown",
      "metadata": {
        "id": "f5DLDsFUQt5G"
      },
      "source": [
        "Case 3: How about if you borrow 80% home price by mortgage and 20% downpayment?"
      ]
    },
    {
      "cell_type": "code",
      "metadata": {
        "colab": {
          "base_uri": "https://localhost:8080/"
        },
        "id": "Flbb1hXVQ3IL",
        "outputId": "81b5741a-0f8c-4de7-8da9-3c36f82af66f"
      },
      "source": [
        "mort_rate = 2.55\n",
        "mort_loan = home_price*(1-0.2)\n",
        "repay_yr = 10\n",
        "pmt_c3 = npf.pmt(mort_rate/1200, repay_yr*12, -mort_loan)\n",
        "print (\"Yearly Repayment Amount in NZD\", np.round(pmt_c3*12,2))"
      ],
      "execution_count": 60,
      "outputs": [
        {
          "output_type": "stream",
          "text": [
            "Yearly Repayment Amount in NZD 90717.54\n"
          ],
          "name": "stdout"
        }
      ]
    },
    {
      "cell_type": "code",
      "metadata": {
        "colab": {
          "base_uri": "https://localhost:8080/"
        },
        "id": "GjCQBhMTTMu5",
        "outputId": "9db45415-1ebf-460f-9a10-10216ff716eb"
      },
      "source": [
        "nyrent1_c3 = exp_wk_rent_y1*52*(1-expense_rate/100)-pmt_c3*12\n",
        "nyrent2_c3 = exp_wk_rent_y2*52*(1-expense_rate/100)-pmt_c3*12\n",
        "nyrent3_c3 = exp_wk_rent_y3*52*(1-expense_rate/100)-pmt_c3*12\n",
        "nyrent4_c3 = exp_wk_rent_y4*52*(1-expense_rate/100)-pmt_c3*12\n",
        "nyrent5_c3 = exp_wk_rent_y5*52*(1-expense_rate/100)-pmt_c3*12\n",
        "nyrent6_c3 = exp_wk_rent_y6*52*(1-expense_rate/100)-pmt_c3*12\n",
        "nyrent7_c3 = exp_wk_rent_y7*52*(1-expense_rate/100)-pmt_c3*12\n",
        "nyrent8_c3 = exp_wk_rent_y8*52*(1-expense_rate/100)-pmt_c3*12\n",
        "nyrent9_c3 = exp_wk_rent_y8*52*(1-expense_rate/100)-pmt_c3*12\n",
        "nyrent10_c3 = exp_wk_rent_y10*52*(1-expense_rate/100)-pmt_c3*12\n",
        "#DCF of Rental Incomes\n",
        "cf_c3 = np.array([-(home_price-mort_loan), nyrent1_c3, nyrent2_c3, nyrent3_c3, nyrent4_c3, nyrent5_c3, nyrent6_c3, nyrent7_c3, nyrent8_c3, nyrent9_c3, nyrent10_c3, exp_sale_price_y10])\n",
        "NPV_c3= npf.npv(disc_rate/100, cf_c3)\n",
        "IRR_c3= npf.irr(cf_c3)\n",
        "print (\"Net Present Value in NZD\", np.round(NPV_c3, 2))\n",
        "print (\"Internal Rate of Return in %\", np.round(IRR_c3*100, 2))"
      ],
      "execution_count": 61,
      "outputs": [
        {
          "output_type": "stream",
          "text": [
            "Net Present Value in NZD -6042.65\n",
            "Internal Rate of Return in % 4.88\n"
          ],
          "name": "stdout"
        }
      ]
    },
    {
      "cell_type": "code",
      "metadata": {
        "colab": {
          "base_uri": "https://localhost:8080/"
        },
        "id": "0vPKgMBUi1G2",
        "outputId": "ffe275bc-5743-4f04-c53b-1dad352db884"
      },
      "source": [
        "print (\"                                \", \"Case 1\", \"Case 2\", \"Case 3\")\n",
        "print (\"Initial Cash Outflow            \", \"0.00\", np.round(-home_price), np.round(-(home_price-mort_loan)))\n",
        "print (\"Net Rental Income in Year 1, NZD\", np.round(nyrent1_c1,2), np.round(nyrent1_c2,2), np.round(nyrent1_c3,2))\n",
        "print (\"Net Rental Income in Year 2, NZD\", np.round(nyrent2_c1,2), np.round(nyrent2_c2,2), np.round(nyrent2_c3,2))\n",
        "print (\"Net Rental Income in Year 3, NZD\", np.round(nyrent3_c1,2), np.round(nyrent3_c2,2), np.round(nyrent3_c3,2))\n",
        "print (\"Net Rental Income in Year 4, NZD\", np.round(nyrent4_c1,2), np.round(nyrent4_c2,2), np.round(nyrent4_c3,2))\n",
        "print (\"Net Rental Income in Year 5, NZD\", np.round(nyrent5_c1,2), np.round(nyrent5_c2,2), np.round(nyrent5_c3,2))\n",
        "print (\"Net Rental Income in Year 6, NZD\", np.round(nyrent6_c1,2), np.round(nyrent6_c2,2), np.round(nyrent6_c3,2))\n",
        "print (\"Net Rental Income in Year 7, NZD\", np.round(nyrent7_c1,2), np.round(nyrent7_c2,2), np.round(nyrent7_c3,2))\n",
        "print (\"Net Rental Income in Year 8, NZD\", np.round(nyrent8_c1,2), np.round(nyrent8_c2,2), np.round(nyrent8_c3,2))\n",
        "print (\"Net Rental Income in Year 9, NZD\", np.round(nyrent9_c1,2), np.round(nyrent9_c2,2), np.round(nyrent9_c3,2))\n",
        "print (\"Net Rental Income in Year 10, NZD\", np.round(nyrent10_c1,2), np.round(nyrent10_c2,2), np.round(nyrent10_c3,2))\n",
        "print (\"Final Net Cash Flow in the end, NZD\", np.round(exp_sale_price_y10-home_price), np.round(exp_sale_price_y10), np.round(exp_sale_price_y10))"
      ],
      "execution_count": 62,
      "outputs": [
        {
          "output_type": "stream",
          "text": [
            "                                 Case 1 Case 2 Case 3\n",
            "Initial Cash Outflow             0.00 -1000000 -200000.0\n",
            "Net Rental Income in Year 1, NZD -17900.0 22100.0 -68617.54\n",
            "Net Rental Income in Year 2, NZD -17900.0 22100.0 -68617.54\n",
            "Net Rental Income in Year 3, NZD -15690.0 24310.0 -66407.54\n",
            "Net Rental Income in Year 4, NZD -15690.0 24310.0 -66407.54\n",
            "Net Rental Income in Year 5, NZD -14364.0 25636.0 -65081.54\n",
            "Net Rental Income in Year 6, NZD -14364.0 25636.0 -65081.54\n",
            "Net Rental Income in Year 7, NZD -13480.0 26520.0 -64197.54\n",
            "Net Rental Income in Year 8, NZD -13480.0 26520.0 -64197.54\n",
            "Net Rental Income in Year 9, NZD -13480.0 26520.0 -64197.54\n",
            "Net Rental Income in Year 10, NZD -11270.0 28730.0 -61987.54\n",
            "Final Net Cash Flow in the end, NZD 200000 1200000 1200000\n"
          ],
          "name": "stdout"
        }
      ]
    }
  ]
}