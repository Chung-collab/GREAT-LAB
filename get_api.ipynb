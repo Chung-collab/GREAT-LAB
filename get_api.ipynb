{
  "nbformat": 4,
  "nbformat_minor": 0,
  "metadata": {
    "colab": {
      "name": "get_api.ipynb",
      "provenance": [],
      "authorship_tag": "ABX9TyNaqnC9LgU3UROOKwMT4618",
      "include_colab_link": true
    },
    "kernelspec": {
      "name": "python3",
      "display_name": "Python 3"
    },
    "language_info": {
      "name": "python"
    }
  },
  "cells": [
    {
      "cell_type": "markdown",
      "metadata": {
        "id": "view-in-github",
        "colab_type": "text"
      },
      "source": [
        "<a href=\"https://colab.research.google.com/github/Chung-collab/GREAT-LAB/blob/main/get_api.ipynb\" target=\"_parent\"><img src=\"https://colab.research.google.com/assets/colab-badge.svg\" alt=\"Open In Colab\"/></a>"
      ]
    },
    {
      "cell_type": "code",
      "metadata": {
        "colab": {
          "base_uri": "https://localhost:8080/"
        },
        "id": "6yzFRtETYoRZ",
        "outputId": "6f4cab1a-39f9-4c7f-ec8d-3ad28df5ef14"
      },
      "source": [
        "#for details, please refer Yiu, C.Y. (2021) Getting Data from API in Colab, https://ecyy.medium.com/getting-data-from-api-in-colab-57b9a445c791\n",
        "import requests  # Import the requests library\n",
        "\n",
        "url = ('https://api.data.gov.hk/v2/filter?q=%7B%22resource%22%3A%22http%3A%2F%2Fwww.rvd.gov.hk%2Fdoc%2Fen%2Fstatistics%2Fhis_data_12.xls%22%2C%22section%22%3A1%2C%22format%22%3A%22json%22%2C%22filters%22%3A%5B%5B1%2C%22bw%22%2C%5B%221997%22%5D%5D%5D%7D')\n",
        "print(url)\n",
        "\n",
        "response = requests.get(url)  # Make a GET request to the URL\n",
        "\n",
        "# Print status code (and associated text)\n",
        "print(f\"Request returned {response.status_code} : '{response.reason}'\")\n",
        "\n",
        "# Print data returned (parsing as JSON)\n",
        "payload = response.json()  # Parse `response.text` into JSON\n",
        "\n",
        "import pprint\n",
        "pp = pprint.PrettyPrinter(indent=1)\n",
        "pp.pprint(payload)"
      ],
      "execution_count": 5,
      "outputs": [
        {
          "output_type": "stream",
          "text": [
            "https://api.data.gov.hk/v2/filter?q=%7B%22resource%22%3A%22http%3A%2F%2Fwww.rvd.gov.hk%2Fdoc%2Fen%2Fstatistics%2Fhis_data_12.xls%22%2C%22section%22%3A1%2C%22format%22%3A%22json%22%2C%22filters%22%3A%5B%5B1%2C%22bw%22%2C%5B%221997%22%5D%5D%5D%7D\n",
            "Request returned 200 : 'OK'\n",
            "[{'售價 Prices': 150.8, '年 Year': '1997', '月 Month': '1', '租金 Rents': 119.3},\n",
            " {'售價 Prices': 156.2, '年 Year': '1997', '月 Month': '2', '租金 Rents': 123.5},\n",
            " {'售價 Prices': 168, '年 Year': '1997', '月 Month': '3', '租金 Rents': 120.5},\n",
            " {'售價 Prices': 170.7, '年 Year': '1997', '月 Month': '4', '租金 Rents': 123},\n",
            " {'售價 Prices': 182.9, '年 Year': '1997', '月 Month': '5', '租金 Rents': 122.9},\n",
            " {'售價 Prices': 180, '年 Year': '1997', '月 Month': '6', '租金 Rents': 126.8},\n",
            " {'售價 Prices': 181.7, '年 Year': '1997', '月 Month': '7', '租金 Rents': 124.2},\n",
            " {'售價 Prices': 195.9, '年 Year': '1997', '月 Month': '8', '租金 Rents': 125.2},\n",
            " {'售價 Prices': 202.6, '年 Year': '1997', '月 Month': '9', '租金 Rents': 124.5},\n",
            " {'售價 Prices': 192.2, '年 Year': '1997', '月 Month': '10', '租金 Rents': 123.5},\n",
            " {'售價 Prices': 181.1, '年 Year': '1997', '月 Month': '11', '租金 Rents': 123.7},\n",
            " {'售價 Prices': 165.3, '年 Year': '1997', '月 Month': '12', '租金 Rents': 125.2}]\n",
            "https://api.data.gov.hk/v2/filter?q=%7B%22resource%22%3A%22http%3A%2F%2Fwww.rvd.gov.hk%2Fdoc%2Fen%2Fstatistics%2Fhis_data_12.xls%22%2C%22section%22%3A1%2C%22format%22%3A%22json%22%2C%22filters%22%3A%5B%5B1%2C%22bw%22%2C%5B%221997%22%5D%5D%5D%7D\n"
          ],
          "name": "stdout"
        }
      ]
    },
    {
      "cell_type": "code",
      "metadata": {
        "colab": {
          "base_uri": "https://localhost:8080/",
          "height": 206
        },
        "id": "8pXpbfEdRZWn",
        "outputId": "0cc4ad0b-e103-4e33-948b-59c8fb4ca673"
      },
      "source": [
        "import pandas as pd\n",
        "df2 = pd.read_json(url)\n",
        "df2.head()"
      ],
      "execution_count": 7,
      "outputs": [
        {
          "output_type": "execute_result",
          "data": {
            "text/html": [
              "<div>\n",
              "<style scoped>\n",
              "    .dataframe tbody tr th:only-of-type {\n",
              "        vertical-align: middle;\n",
              "    }\n",
              "\n",
              "    .dataframe tbody tr th {\n",
              "        vertical-align: top;\n",
              "    }\n",
              "\n",
              "    .dataframe thead th {\n",
              "        text-align: right;\n",
              "    }\n",
              "</style>\n",
              "<table border=\"1\" class=\"dataframe\">\n",
              "  <thead>\n",
              "    <tr style=\"text-align: right;\">\n",
              "      <th></th>\n",
              "      <th>年 Year</th>\n",
              "      <th>月 Month</th>\n",
              "      <th>租金 Rents</th>\n",
              "      <th>售價 Prices</th>\n",
              "    </tr>\n",
              "  </thead>\n",
              "  <tbody>\n",
              "    <tr>\n",
              "      <th>0</th>\n",
              "      <td>1997</td>\n",
              "      <td>1</td>\n",
              "      <td>119.3</td>\n",
              "      <td>150.8</td>\n",
              "    </tr>\n",
              "    <tr>\n",
              "      <th>1</th>\n",
              "      <td>1997</td>\n",
              "      <td>2</td>\n",
              "      <td>123.5</td>\n",
              "      <td>156.2</td>\n",
              "    </tr>\n",
              "    <tr>\n",
              "      <th>2</th>\n",
              "      <td>1997</td>\n",
              "      <td>3</td>\n",
              "      <td>120.5</td>\n",
              "      <td>168.0</td>\n",
              "    </tr>\n",
              "    <tr>\n",
              "      <th>3</th>\n",
              "      <td>1997</td>\n",
              "      <td>4</td>\n",
              "      <td>123.0</td>\n",
              "      <td>170.7</td>\n",
              "    </tr>\n",
              "    <tr>\n",
              "      <th>4</th>\n",
              "      <td>1997</td>\n",
              "      <td>5</td>\n",
              "      <td>122.9</td>\n",
              "      <td>182.9</td>\n",
              "    </tr>\n",
              "  </tbody>\n",
              "</table>\n",
              "</div>"
            ],
            "text/plain": [
              "   年 Year  月 Month  租金 Rents  售價 Prices\n",
              "0    1997        1     119.3      150.8\n",
              "1    1997        2     123.5      156.2\n",
              "2    1997        3     120.5      168.0\n",
              "3    1997        4     123.0      170.7\n",
              "4    1997        5     122.9      182.9"
            ]
          },
          "metadata": {
            "tags": []
          },
          "execution_count": 7
        }
      ]
    },
    {
      "cell_type": "code",
      "metadata": {
        "colab": {
          "base_uri": "https://localhost:8080/"
        },
        "id": "zLCk6sCzT5hh",
        "outputId": "2ff0d6eb-4032-4dcf-b78e-931f15c5803e"
      },
      "source": [
        "! pip install plotly==5.0.0\n",
        "import plotly.express as px"
      ],
      "execution_count": 8,
      "outputs": [
        {
          "output_type": "stream",
          "text": [
            "Collecting plotly==5.0.0\n",
            "\u001b[?25l  Downloading https://files.pythonhosted.org/packages/84/ff/cc3f54a0822987a5ac277de0deb018104f12aadd933cedd97b600894ebcc/plotly-5.0.0-py2.py3-none-any.whl (19.1MB)\n",
            "\u001b[K     |████████████████████████████████| 19.1MB 1.6MB/s \n",
            "\u001b[?25hRequirement already satisfied: six in /usr/local/lib/python3.7/dist-packages (from plotly==5.0.0) (1.15.0)\n",
            "Collecting tenacity>=6.2.0\n",
            "  Downloading https://files.pythonhosted.org/packages/41/ee/d6eddff86161c6a3a1753af4a66b06cbc508d3b77ca4698cd0374cd66531/tenacity-7.0.0-py2.py3-none-any.whl\n",
            "Installing collected packages: tenacity, plotly\n",
            "  Found existing installation: plotly 4.4.1\n",
            "    Uninstalling plotly-4.4.1:\n",
            "      Successfully uninstalled plotly-4.4.1\n",
            "Successfully installed plotly-5.0.0 tenacity-7.0.0\n"
          ],
          "name": "stdout"
        }
      ]
    },
    {
      "cell_type": "code",
      "metadata": {
        "colab": {
          "base_uri": "https://localhost:8080/",
          "height": 542
        },
        "id": "JNaFQ6kIUOdy",
        "outputId": "2e441ca5-da66-4333-ed84-a2bde7e2f89f"
      },
      "source": [
        "#define df_rri_rpi \n",
        "df_rri_rpi = df2\n",
        "#plot the scatter plot by px of df_rri_rpi with x, y axis defined\n",
        "fig_rri_rpi = px.scatter(df_rri_rpi, x=\"租金 Rents\", y=\"售價 Prices\")\n",
        "fig_rri_rpi.show()"
      ],
      "execution_count": 10,
      "outputs": [
        {
          "output_type": "display_data",
          "data": {
            "text/html": [
              "<html>\n",
              "<head><meta charset=\"utf-8\" /></head>\n",
              "<body>\n",
              "    <div>            <script src=\"https://cdnjs.cloudflare.com/ajax/libs/mathjax/2.7.5/MathJax.js?config=TeX-AMS-MML_SVG\"></script><script type=\"text/javascript\">if (window.MathJax) {MathJax.Hub.Config({SVG: {font: \"STIX-Web\"}});}</script>                <script type=\"text/javascript\">window.PlotlyConfig = {MathJaxConfig: 'local'};</script>\n",
              "        <script src=\"https://cdn.plot.ly/plotly-2.1.0.min.js\"></script>                <div id=\"e3b97daa-3cbe-4719-90fc-7caa330f3511\" class=\"plotly-graph-div\" style=\"height:525px; width:100%;\"></div>            <script type=\"text/javascript\">                                    window.PLOTLYENV=window.PLOTLYENV || {};                                    if (document.getElementById(\"e3b97daa-3cbe-4719-90fc-7caa330f3511\")) {                    Plotly.newPlot(                        \"e3b97daa-3cbe-4719-90fc-7caa330f3511\",                        [{\"hovertemplate\":\"\\u79df\\u91d1 Rents=%{x}<br>\\u552e\\u50f9 Prices=%{y}<extra></extra>\",\"legendgroup\":\"\",\"marker\":{\"color\":\"#636efa\",\"symbol\":\"circle\"},\"mode\":\"markers\",\"name\":\"\",\"orientation\":\"v\",\"showlegend\":false,\"type\":\"scatter\",\"x\":[119.3,123.5,120.5,123.0,122.9,126.8,124.2,125.2,124.5,123.5,123.7,125.2],\"xaxis\":\"x\",\"y\":[150.8,156.2,168.0,170.7,182.9,180.0,181.7,195.9,202.6,192.2,181.1,165.3],\"yaxis\":\"y\"}],                        {\"legend\":{\"tracegroupgap\":0},\"margin\":{\"t\":60},\"template\":{\"data\":{\"bar\":[{\"error_x\":{\"color\":\"#2a3f5f\"},\"error_y\":{\"color\":\"#2a3f5f\"},\"marker\":{\"line\":{\"color\":\"#E5ECF6\",\"width\":0.5},\"pattern\":{\"fillmode\":\"overlay\",\"size\":10,\"solidity\":0.2}},\"type\":\"bar\"}],\"barpolar\":[{\"marker\":{\"line\":{\"color\":\"#E5ECF6\",\"width\":0.5},\"pattern\":{\"fillmode\":\"overlay\",\"size\":10,\"solidity\":0.2}},\"type\":\"barpolar\"}],\"carpet\":[{\"aaxis\":{\"endlinecolor\":\"#2a3f5f\",\"gridcolor\":\"white\",\"linecolor\":\"white\",\"minorgridcolor\":\"white\",\"startlinecolor\":\"#2a3f5f\"},\"baxis\":{\"endlinecolor\":\"#2a3f5f\",\"gridcolor\":\"white\",\"linecolor\":\"white\",\"minorgridcolor\":\"white\",\"startlinecolor\":\"#2a3f5f\"},\"type\":\"carpet\"}],\"choropleth\":[{\"colorbar\":{\"outlinewidth\":0,\"ticks\":\"\"},\"type\":\"choropleth\"}],\"contour\":[{\"colorbar\":{\"outlinewidth\":0,\"ticks\":\"\"},\"colorscale\":[[0.0,\"#0d0887\"],[0.1111111111111111,\"#46039f\"],[0.2222222222222222,\"#7201a8\"],[0.3333333333333333,\"#9c179e\"],[0.4444444444444444,\"#bd3786\"],[0.5555555555555556,\"#d8576b\"],[0.6666666666666666,\"#ed7953\"],[0.7777777777777778,\"#fb9f3a\"],[0.8888888888888888,\"#fdca26\"],[1.0,\"#f0f921\"]],\"type\":\"contour\"}],\"contourcarpet\":[{\"colorbar\":{\"outlinewidth\":0,\"ticks\":\"\"},\"type\":\"contourcarpet\"}],\"heatmap\":[{\"colorbar\":{\"outlinewidth\":0,\"ticks\":\"\"},\"colorscale\":[[0.0,\"#0d0887\"],[0.1111111111111111,\"#46039f\"],[0.2222222222222222,\"#7201a8\"],[0.3333333333333333,\"#9c179e\"],[0.4444444444444444,\"#bd3786\"],[0.5555555555555556,\"#d8576b\"],[0.6666666666666666,\"#ed7953\"],[0.7777777777777778,\"#fb9f3a\"],[0.8888888888888888,\"#fdca26\"],[1.0,\"#f0f921\"]],\"type\":\"heatmap\"}],\"heatmapgl\":[{\"colorbar\":{\"outlinewidth\":0,\"ticks\":\"\"},\"colorscale\":[[0.0,\"#0d0887\"],[0.1111111111111111,\"#46039f\"],[0.2222222222222222,\"#7201a8\"],[0.3333333333333333,\"#9c179e\"],[0.4444444444444444,\"#bd3786\"],[0.5555555555555556,\"#d8576b\"],[0.6666666666666666,\"#ed7953\"],[0.7777777777777778,\"#fb9f3a\"],[0.8888888888888888,\"#fdca26\"],[1.0,\"#f0f921\"]],\"type\":\"heatmapgl\"}],\"histogram\":[{\"marker\":{\"pattern\":{\"fillmode\":\"overlay\",\"size\":10,\"solidity\":0.2}},\"type\":\"histogram\"}],\"histogram2d\":[{\"colorbar\":{\"outlinewidth\":0,\"ticks\":\"\"},\"colorscale\":[[0.0,\"#0d0887\"],[0.1111111111111111,\"#46039f\"],[0.2222222222222222,\"#7201a8\"],[0.3333333333333333,\"#9c179e\"],[0.4444444444444444,\"#bd3786\"],[0.5555555555555556,\"#d8576b\"],[0.6666666666666666,\"#ed7953\"],[0.7777777777777778,\"#fb9f3a\"],[0.8888888888888888,\"#fdca26\"],[1.0,\"#f0f921\"]],\"type\":\"histogram2d\"}],\"histogram2dcontour\":[{\"colorbar\":{\"outlinewidth\":0,\"ticks\":\"\"},\"colorscale\":[[0.0,\"#0d0887\"],[0.1111111111111111,\"#46039f\"],[0.2222222222222222,\"#7201a8\"],[0.3333333333333333,\"#9c179e\"],[0.4444444444444444,\"#bd3786\"],[0.5555555555555556,\"#d8576b\"],[0.6666666666666666,\"#ed7953\"],[0.7777777777777778,\"#fb9f3a\"],[0.8888888888888888,\"#fdca26\"],[1.0,\"#f0f921\"]],\"type\":\"histogram2dcontour\"}],\"mesh3d\":[{\"colorbar\":{\"outlinewidth\":0,\"ticks\":\"\"},\"type\":\"mesh3d\"}],\"parcoords\":[{\"line\":{\"colorbar\":{\"outlinewidth\":0,\"ticks\":\"\"}},\"type\":\"parcoords\"}],\"pie\":[{\"automargin\":true,\"type\":\"pie\"}],\"scatter\":[{\"marker\":{\"colorbar\":{\"outlinewidth\":0,\"ticks\":\"\"}},\"type\":\"scatter\"}],\"scatter3d\":[{\"line\":{\"colorbar\":{\"outlinewidth\":0,\"ticks\":\"\"}},\"marker\":{\"colorbar\":{\"outlinewidth\":0,\"ticks\":\"\"}},\"type\":\"scatter3d\"}],\"scattercarpet\":[{\"marker\":{\"colorbar\":{\"outlinewidth\":0,\"ticks\":\"\"}},\"type\":\"scattercarpet\"}],\"scattergeo\":[{\"marker\":{\"colorbar\":{\"outlinewidth\":0,\"ticks\":\"\"}},\"type\":\"scattergeo\"}],\"scattergl\":[{\"marker\":{\"colorbar\":{\"outlinewidth\":0,\"ticks\":\"\"}},\"type\":\"scattergl\"}],\"scattermapbox\":[{\"marker\":{\"colorbar\":{\"outlinewidth\":0,\"ticks\":\"\"}},\"type\":\"scattermapbox\"}],\"scatterpolar\":[{\"marker\":{\"colorbar\":{\"outlinewidth\":0,\"ticks\":\"\"}},\"type\":\"scatterpolar\"}],\"scatterpolargl\":[{\"marker\":{\"colorbar\":{\"outlinewidth\":0,\"ticks\":\"\"}},\"type\":\"scatterpolargl\"}],\"scatterternary\":[{\"marker\":{\"colorbar\":{\"outlinewidth\":0,\"ticks\":\"\"}},\"type\":\"scatterternary\"}],\"surface\":[{\"colorbar\":{\"outlinewidth\":0,\"ticks\":\"\"},\"colorscale\":[[0.0,\"#0d0887\"],[0.1111111111111111,\"#46039f\"],[0.2222222222222222,\"#7201a8\"],[0.3333333333333333,\"#9c179e\"],[0.4444444444444444,\"#bd3786\"],[0.5555555555555556,\"#d8576b\"],[0.6666666666666666,\"#ed7953\"],[0.7777777777777778,\"#fb9f3a\"],[0.8888888888888888,\"#fdca26\"],[1.0,\"#f0f921\"]],\"type\":\"surface\"}],\"table\":[{\"cells\":{\"fill\":{\"color\":\"#EBF0F8\"},\"line\":{\"color\":\"white\"}},\"header\":{\"fill\":{\"color\":\"#C8D4E3\"},\"line\":{\"color\":\"white\"}},\"type\":\"table\"}]},\"layout\":{\"annotationdefaults\":{\"arrowcolor\":\"#2a3f5f\",\"arrowhead\":0,\"arrowwidth\":1},\"autotypenumbers\":\"strict\",\"coloraxis\":{\"colorbar\":{\"outlinewidth\":0,\"ticks\":\"\"}},\"colorscale\":{\"diverging\":[[0,\"#8e0152\"],[0.1,\"#c51b7d\"],[0.2,\"#de77ae\"],[0.3,\"#f1b6da\"],[0.4,\"#fde0ef\"],[0.5,\"#f7f7f7\"],[0.6,\"#e6f5d0\"],[0.7,\"#b8e186\"],[0.8,\"#7fbc41\"],[0.9,\"#4d9221\"],[1,\"#276419\"]],\"sequential\":[[0.0,\"#0d0887\"],[0.1111111111111111,\"#46039f\"],[0.2222222222222222,\"#7201a8\"],[0.3333333333333333,\"#9c179e\"],[0.4444444444444444,\"#bd3786\"],[0.5555555555555556,\"#d8576b\"],[0.6666666666666666,\"#ed7953\"],[0.7777777777777778,\"#fb9f3a\"],[0.8888888888888888,\"#fdca26\"],[1.0,\"#f0f921\"]],\"sequentialminus\":[[0.0,\"#0d0887\"],[0.1111111111111111,\"#46039f\"],[0.2222222222222222,\"#7201a8\"],[0.3333333333333333,\"#9c179e\"],[0.4444444444444444,\"#bd3786\"],[0.5555555555555556,\"#d8576b\"],[0.6666666666666666,\"#ed7953\"],[0.7777777777777778,\"#fb9f3a\"],[0.8888888888888888,\"#fdca26\"],[1.0,\"#f0f921\"]]},\"colorway\":[\"#636efa\",\"#EF553B\",\"#00cc96\",\"#ab63fa\",\"#FFA15A\",\"#19d3f3\",\"#FF6692\",\"#B6E880\",\"#FF97FF\",\"#FECB52\"],\"font\":{\"color\":\"#2a3f5f\"},\"geo\":{\"bgcolor\":\"white\",\"lakecolor\":\"white\",\"landcolor\":\"#E5ECF6\",\"showlakes\":true,\"showland\":true,\"subunitcolor\":\"white\"},\"hoverlabel\":{\"align\":\"left\"},\"hovermode\":\"closest\",\"mapbox\":{\"style\":\"light\"},\"paper_bgcolor\":\"white\",\"plot_bgcolor\":\"#E5ECF6\",\"polar\":{\"angularaxis\":{\"gridcolor\":\"white\",\"linecolor\":\"white\",\"ticks\":\"\"},\"bgcolor\":\"#E5ECF6\",\"radialaxis\":{\"gridcolor\":\"white\",\"linecolor\":\"white\",\"ticks\":\"\"}},\"scene\":{\"xaxis\":{\"backgroundcolor\":\"#E5ECF6\",\"gridcolor\":\"white\",\"gridwidth\":2,\"linecolor\":\"white\",\"showbackground\":true,\"ticks\":\"\",\"zerolinecolor\":\"white\"},\"yaxis\":{\"backgroundcolor\":\"#E5ECF6\",\"gridcolor\":\"white\",\"gridwidth\":2,\"linecolor\":\"white\",\"showbackground\":true,\"ticks\":\"\",\"zerolinecolor\":\"white\"},\"zaxis\":{\"backgroundcolor\":\"#E5ECF6\",\"gridcolor\":\"white\",\"gridwidth\":2,\"linecolor\":\"white\",\"showbackground\":true,\"ticks\":\"\",\"zerolinecolor\":\"white\"}},\"shapedefaults\":{\"line\":{\"color\":\"#2a3f5f\"}},\"ternary\":{\"aaxis\":{\"gridcolor\":\"white\",\"linecolor\":\"white\",\"ticks\":\"\"},\"baxis\":{\"gridcolor\":\"white\",\"linecolor\":\"white\",\"ticks\":\"\"},\"bgcolor\":\"#E5ECF6\",\"caxis\":{\"gridcolor\":\"white\",\"linecolor\":\"white\",\"ticks\":\"\"}},\"title\":{\"x\":0.05},\"xaxis\":{\"automargin\":true,\"gridcolor\":\"white\",\"linecolor\":\"white\",\"ticks\":\"\",\"title\":{\"standoff\":15},\"zerolinecolor\":\"white\",\"zerolinewidth\":2},\"yaxis\":{\"automargin\":true,\"gridcolor\":\"white\",\"linecolor\":\"white\",\"ticks\":\"\",\"title\":{\"standoff\":15},\"zerolinecolor\":\"white\",\"zerolinewidth\":2}}},\"xaxis\":{\"anchor\":\"y\",\"domain\":[0.0,1.0],\"title\":{\"text\":\"\\u79df\\u91d1 Rents\"}},\"yaxis\":{\"anchor\":\"x\",\"domain\":[0.0,1.0],\"title\":{\"text\":\"\\u552e\\u50f9 Prices\"}}},                        {\"responsive\": true}                    ).then(function(){\n",
              "                            \n",
              "var gd = document.getElementById('e3b97daa-3cbe-4719-90fc-7caa330f3511');\n",
              "var x = new MutationObserver(function (mutations, observer) {{\n",
              "        var display = window.getComputedStyle(gd).display;\n",
              "        if (!display || display === 'none') {{\n",
              "            console.log([gd, 'removed!']);\n",
              "            Plotly.purge(gd);\n",
              "            observer.disconnect();\n",
              "        }}\n",
              "}});\n",
              "\n",
              "// Listen for the removal of the full notebook cells\n",
              "var notebookContainer = gd.closest('#notebook-container');\n",
              "if (notebookContainer) {{\n",
              "    x.observe(notebookContainer, {childList: true});\n",
              "}}\n",
              "\n",
              "// Listen for the clearing of the current output cell\n",
              "var outputEl = gd.closest('.output');\n",
              "if (outputEl) {{\n",
              "    x.observe(outputEl, {childList: true});\n",
              "}}\n",
              "\n",
              "                        })                };                            </script>        </div>\n",
              "</body>\n",
              "</html>"
            ]
          },
          "metadata": {
            "tags": []
          }
        }
      ]
    },
    {
      "cell_type": "markdown",
      "metadata": {
        "id": "SpaGmodyXxqV"
      },
      "source": [
        "![image.png](data:image/png;base64,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)"
      ]
    },
    {
      "cell_type": "code",
      "metadata": {
        "colab": {
          "base_uri": "https://localhost:8080/"
        },
        "id": "GLHXKji2wIzq",
        "outputId": "dff8fcee-8b94-43a0-bd2f-1c94104d15f3"
      },
      "source": [
        "#For explanation of the API string structure of Eurostat, refer https://ec.europa.eu/eurostat/web/json-and-unicode-web-services/getting-started/rest-request\n",
        "import requests  # Import the requests library\n",
        "\n",
        "# Query URL\n",
        "url = ('http://ec.europa.eu/eurostat/wdds/rest/data/v2.1/json/en/nama_10_gdp?precision=1&geo=DE&geo=NL&&na_item=B1GQ&unit=CLV10_MEUR&time=2019&time=2020')\n",
        "#Time: 2019 and 2020 ('&time=2019&time=2020')\n",
        "#Geo: the Netherlands and Germany ('&geo=NL&geo=DE')\n",
        "#Unit : Chain-Linked Value (2010) million euro ('&unit=CLV10_MEUR')\n",
        "#National Account indicator : B1GQ - Gross domestic product at market prices ('&na_item=B1GQ')\n",
        "print(url)\n",
        "\n",
        "response = requests.get(url)  # Make a GET request to the URL\n",
        "\n",
        "# Print status code (and associated text)\n",
        "print(f\"Request returned {response.status_code} : '{response.reason}'\")\n",
        "\n",
        "# Print data returned (parsing as JSON)\n",
        "payload = response.json()  # Parse `response.text` into JSON\n",
        "\n",
        "import pprint\n",
        "pp = pprint.PrettyPrinter(indent=1)\n",
        "pp.pprint(payload)"
      ],
      "execution_count": null,
      "outputs": [
        {
          "output_type": "stream",
          "text": [
            "http://ec.europa.eu/eurostat/wdds/rest/data/v2.1/json/en/nama_10_gdp?precision=1&geo=DE&geo=NL&&na_item=B1GQ&unit=CLV10_MEUR&time=2019&time=2020\n",
            "Request returned 200 : 'OK'\n",
            "{'class': 'dataset',\n",
            " 'dimension': {'geo': {'category': {'index': {'DE': 0, 'NL': 1},\n",
            "                                    'label': {'DE': 'Germany (until 1990 '\n",
            "                                                    'former territory of the '\n",
            "                                                    'FRG)',\n",
            "                                              'NL': 'Netherlands'}},\n",
            "                       'label': 'geo'},\n",
            "               'na_item': {'category': {'index': {'B1GQ': 0},\n",
            "                                        'label': {'B1GQ': 'Gross domestic '\n",
            "                                                          'product at market '\n",
            "                                                          'prices'}},\n",
            "                           'label': 'na_item'},\n",
            "               'time': {'category': {'index': {'2019': 0, '2020': 1},\n",
            "                                     'label': {'2019': '2019', '2020': '2020'}},\n",
            "                        'label': 'time'},\n",
            "               'unit': {'category': {'index': {'CLV10_MEUR': 0},\n",
            "                                     'label': {'CLV10_MEUR': 'Chain linked '\n",
            "                                                             'volumes (2010), '\n",
            "                                                             'million euro'}},\n",
            "                        'label': 'unit'}},\n",
            " 'extension': {'datasetId': 'nama_10_gdp',\n",
            "               'description': None,\n",
            "               'lang': 'EN',\n",
            "               'status': {'label': {'p': 'provisional'}},\n",
            "               'subTitle': None},\n",
            " 'href': 'http://ec.europa.eu/eurostat/wdds/rest/data/v2.1/json/en/nama_10_gdp?precision=1&geo=DE&geo=NL&&na_item=B1GQ&unit=CLV10_MEUR&time=2019&time=2020',\n",
            " 'id': ['unit', 'na_item', 'geo', 'time'],\n",
            " 'label': 'GDP and main components (output, expenditure and income)',\n",
            " 'size': [1, 1, 2, 2],\n",
            " 'source': 'Eurostat',\n",
            " 'status': {'1': 'p', '2': 'p', '3': 'p'},\n",
            " 'updated': '2021-06-11',\n",
            " 'value': {'0': 2978183.8, '1': 2836259.3, '2': 726188.6, '3': 699019.5},\n",
            " 'version': '2.0'}\n"
          ],
          "name": "stdout"
        }
      ]
    }
  ]
}